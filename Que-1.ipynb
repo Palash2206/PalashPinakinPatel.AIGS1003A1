{
 "cells": [
  {
   "cell_type": "code",
   "execution_count": 1,
   "id": "ffc2cc09",
   "metadata": {},
   "outputs": [
    {
     "ename": "SyntaxError",
     "evalue": "invalid syntax (3641487372.py, line 1)",
     "output_type": "error",
     "traceback": [
      "\u001b[1;36m  Input \u001b[1;32mIn [1]\u001b[1;36m\u001b[0m\n\u001b[1;33m    By Bayes Theorem\u001b[0m\n\u001b[1;37m       ^\u001b[0m\n\u001b[1;31mSyntaxError\u001b[0m\u001b[1;31m:\u001b[0m invalid syntax\n"
     ]
    }
   ],
   "source": [
    "By Bayes Theorem\n",
    "P(A|B) = P(B|A) * P(A) / P(B)"
   ]
  },
  {
   "cell_type": "code",
   "execution_count": 2,
   "id": "d4514986",
   "metadata": {},
   "outputs": [
    {
     "ename": "SyntaxError",
     "evalue": "invalid syntax (1911025290.py, line 1)",
     "output_type": "error",
     "traceback": [
      "\u001b[1;36m  Input \u001b[1;32mIn [2]\u001b[1;36m\u001b[0m\n\u001b[1;33m    Que 1:-\u001b[0m\n\u001b[1;37m        ^\u001b[0m\n\u001b[1;31mSyntaxError\u001b[0m\u001b[1;31m:\u001b[0m invalid syntax\n"
     ]
    }
   ],
   "source": [
    "Que 1:- \n",
    "    P(sunny|a cone of ice cream) = P(a cone of ice cream|sunny) * P(sunny) / P(a cone of ice cream)\n",
    "    P(a cone of ice cream|sunny) * P(sunny)\n",
    "    P(a cone of ice cream|rainy) * P(rainy)\n",
    "    \n",
    "    Being Naive\n",
    "    P(a cone of ice cream) = P(a) * P(cone) *P(of) * P(ice) * P(cream)\n",
    "    As, we want to find bigger probability, we can ignore divisor\n",
    "    P(sunny|a cone of ice cream) = P(sunny|a) * P(sunny|cone) *P(sunny|of) * P(sunny|ice) * P(sunny|cream) * p(sunny)"
   ]
  },
  {
   "cell_type": "code",
   "execution_count": null,
   "id": "94cd9c36",
   "metadata": {},
   "outputs": [],
   "source": [
    "Que 2:-\n",
    "    P(rainy|a cup of hot coffee) = P(a cup of hot coffee|rainy) * P(rainy) / P(a cup of hot coffee)\n",
    "    P(a cup if hot coffee|rainy) * P(rainy)\n",
    "    P(a cup of hot coffee|sunny) * P(sunny)\n",
    "    \n",
    "    Being Naive\n",
    "    P(a cup of hot coffee) = P(a) * P(cup) * P(of) * P(hot) * P(coffee)\n",
    "    As, we want to find bigger probability, we can ignore divisor\n",
    "    P(rainy|a cup of hot coffee) = P(rainy|a) * P(rainy|cup) * P(rainy|of) * P(rainy|hot) * P(rainy|coffee) * P(rainy)"
   ]
  }
 ],
 "metadata": {
  "kernelspec": {
   "display_name": "Python 3 (ipykernel)",
   "language": "python",
   "name": "python3"
  },
  "language_info": {
   "codemirror_mode": {
    "name": "ipython",
    "version": 3
   },
   "file_extension": ".py",
   "mimetype": "text/x-python",
   "name": "python",
   "nbconvert_exporter": "python",
   "pygments_lexer": "ipython3",
   "version": "3.9.12"
  }
 },
 "nbformat": 4,
 "nbformat_minor": 5
}
