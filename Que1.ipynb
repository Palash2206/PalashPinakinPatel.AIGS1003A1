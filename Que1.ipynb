{
 "cells": [
  {
   "cell_type": "code",
   "execution_count": null,
   "id": "e3693bc0",
   "metadata": {},
   "outputs": [],
   "source": [
    "Que 1:-\n",
    "    (1) P(sunny|a cone of ice cream) = ?\n",
    "    (2) P(rainy|a cup of hot coffee) = ?\n",
    "By Bayes Theorem\n",
    "P(A|B) = P(B|A) * P(A) / P(B)\n",
    "\n",
    "1:- \n",
    "    P(sunny|a cone of ice cream) = P(a cone of ice cream|sunny) * P(sunny) / P(a cone of ice cream)\n",
    "    P(a cone of ice cream|sunny) * P(sunny)\n",
    "    \n",
    "    Being Naive\n",
    "    P(a cone of ice cream) = P(a) * P(cone) *P(of) * P(ice) * P(cream)\n",
    "    \n",
    "    As, we want to find bigger probability, we can ignore divisor\n",
    "    \n",
    "    P(sunny|a cone of ice cream) = P(a|sunny) * P(cone|sunny) *P(of|sunny) * P(ice|sunny) * P(cream|sunny) * p(sunny)\n",
    "2:-\n",
    "    P(rainy|a cup of hot coffee) = P(a cup of hot coffee|rainy) * P(rainy) / P(a cup of hot coffee)\n",
    "    P(a cup of hot coffee|rainy) * P(rainy)\n",
    "    \n",
    "    Being Naive\n",
    "    P(a cup of hot coffee) = P(a) * P(cup) * P(of) * P(hot) * P(coffee)\n",
    "    \n",
    "    As, we want to find bigger probability, we can ignore divisor\n",
    "    \n",
    "    P(rainy|a cup of hot coffee) = P(a|rainy) * P(cup|rainy) * P(of|rainy) * P(hot|rainy) * P(coffee|rainy) * P(rainy)"
   ]
  }
 ],
 "metadata": {
  "kernelspec": {
   "display_name": "Python 3 (ipykernel)",
   "language": "python",
   "name": "python3"
  },
  "language_info": {
   "codemirror_mode": {
    "name": "ipython",
    "version": 3
   },
   "file_extension": ".py",
   "mimetype": "text/x-python",
   "name": "python",
   "nbconvert_exporter": "python",
   "pygments_lexer": "ipython3",
   "version": "3.9.12"
  }
 },
 "nbformat": 4,
 "nbformat_minor": 5
}
